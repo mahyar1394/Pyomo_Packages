{
  "nbformat": 4,
  "nbformat_minor": 0,
  "metadata": {
    "colab": {
      "name": "Pyomo Training.ipynb",
      "provenance": [],
      "collapsed_sections": []
    },
    "kernelspec": {
      "name": "python3",
      "display_name": "Python 3"
    },
    "language_info": {
      "name": "python"
    }
  },
  "cells": [
    {
      "cell_type": "code",
      "execution_count": 43,
      "metadata": {
        "id": "qpj6dKvrEpnc"
      },
      "outputs": [],
      "source": [
        "#!pip install -q pyomo"
      ]
    },
    {
      "cell_type": "code",
      "source": [
        "# !apt-get install -y -qq glpk-utils\n",
        "# !apt-get install -y -qq coinor-cbc\n",
        "# !wget -N -q \"https://ampl.com/dl/open/ipopt/ipopt-linux64.zip\"\n",
        "# !unzip -o -q ipopt-linux64\n",
        "# !wget -N -q \"https://ampl.com/dl/open/bonmin/bonmin-linux64.zip\"\n",
        "# !unzip -o -q bonmin-linux64\n",
        "# !wget -N -q \"https://ampl.com/dl/open/couenne/couenne-linux64.zip\"\n",
        "# !unzip -o -q couenne-linux64\n",
        "# !wget -N -q \"https://ampl.com/dl/open/gecode/gecode-linux64.zip\"\n",
        "# !unzip -o -q gecode-linux64"
      ],
      "metadata": {
        "id": "1-v8HuQFE3r1"
      },
      "execution_count": 44,
      "outputs": []
    },
    {
      "cell_type": "code",
      "source": [
        "### Mahyar Lasemi ###\n",
        "# date: 4.12.2022 #\n",
        "\n",
        "\n",
        "from pyomo.environ import *\n",
        "\n",
        "model = ConcreteModel()\n",
        "model.R = Param(initialize = 10)\n",
        "model.x = Var(bounds = (0,model.R))\n",
        "model.y = Var(bounds = (0,model.R))\n",
        "\n",
        "model.C1 = Constraint(expr = model.x**2 + model.y**2 == model.R**2)\n",
        "model.F = Objective(expr = 4*model.x*model.y , sense=maximize)\n",
        "\n",
        "solver = SolverFactory('ipopt' , executable='/content/ipopt')\n",
        "results = solver.solve(model);\n",
        "\n",
        "print(f'x= {value(model.x)}')\n",
        "print(f'y= {value(model.y)}')\n",
        "print(f'OF= {value(model.F)}')"
      ],
      "metadata": {
        "colab": {
          "base_uri": "https://localhost:8080/"
        },
        "id": "whUBalD7Eysn",
        "outputId": "52419dfc-df36-4b42-e3cf-2922c545156e"
      },
      "execution_count": 45,
      "outputs": [
        {
          "output_type": "stream",
          "name": "stdout",
          "text": [
            "x= 7.071067811865475\n",
            "y= 7.071067811865475\n",
            "OF= 199.99999999999997\n"
          ]
        }
      ]
    },
    {
      "cell_type": "code",
      "source": [
        "import pyomo.environ as pyo\n",
        "\n",
        "# Create instance of concrete Pyomo model.\n",
        "# concrete means all of the sets and model data are specified at the time of model construction.\n",
        "# In this class, you'll use a concrete model.\n",
        "m = pyo.ConcreteModel()\n",
        "\n",
        "## Declare variables with initial values with bounds\n",
        "m.x1 = pyo.Var(initialize=1, bounds=(-10, 10))\n",
        "m.x2 = pyo.Var(initialize=1, bounds=(-10, 10))\n",
        "m.x3 = pyo.Var(initialize=1, bounds=(-10, 10))\n",
        "\n",
        "## Declare objective\n",
        "m.OBJ = pyo.Objective(expr=m.x1**2 + 2*m.x2**2 - m.x3, sense = minimize)\n",
        "\n",
        "## Declare equality constraints\n",
        "m.h1 = pyo.Constraint(expr= m.x1 + m.x2 == 1)\n",
        "\n",
        "# YOUR SOLUTION HERE\n",
        "solver = SolverFactory('ipopt' , executable = '/content/ipopt')\n",
        "results = solver.solve(m);\n",
        "\n",
        "print(f'x1 = {value(m.x1)}')\n",
        "print(f'x2 = {value(m.x2)}')\n",
        "print(f'x3 = {value(m.x3)}')\n",
        "print(f'OF = {value(m.OBJ)}')\n",
        "\n",
        "## Display model\n",
        "m.pprint()"
      ],
      "metadata": {
        "colab": {
          "base_uri": "https://localhost:8080/"
        },
        "id": "rDmppq-ITfth",
        "outputId": "97780a8f-edaa-4f5b-8a39-ff8f77f781d1"
      },
      "execution_count": 46,
      "outputs": [
        {
          "output_type": "stream",
          "name": "stdout",
          "text": [
            "x1 = 0.6666666666638605\n",
            "x2 = 0.33333333333613946\n",
            "x3 = 10.0\n",
            "OF = -9.333333333333334\n",
            "3 Var Declarations\n",
            "    x1 : Size=1, Index=None\n",
            "        Key  : Lower : Value              : Upper : Fixed : Stale : Domain\n",
            "        None :   -10 : 0.6666666666638605 :    10 : False : False :  Reals\n",
            "    x2 : Size=1, Index=None\n",
            "        Key  : Lower : Value               : Upper : Fixed : Stale : Domain\n",
            "        None :   -10 : 0.33333333333613946 :    10 : False : False :  Reals\n",
            "    x3 : Size=1, Index=None\n",
            "        Key  : Lower : Value : Upper : Fixed : Stale : Domain\n",
            "        None :   -10 :  10.0 :    10 : False : False :  Reals\n",
            "\n",
            "1 Objective Declarations\n",
            "    OBJ : Size=1, Index=None, Active=True\n",
            "        Key  : Active : Sense    : Expression\n",
            "        None :   True : minimize : x1**2 + 2*x2**2 - x3\n",
            "\n",
            "1 Constraint Declarations\n",
            "    h1 : Size=1, Index=None, Active=True\n",
            "        Key  : Lower : Body    : Upper : Active\n",
            "        None :   1.0 : x1 + x2 :   1.0 :   True\n",
            "\n",
            "5 Declarations: x1 x2 x3 OBJ h1\n"
          ]
        }
      ]
    }
  ]
}